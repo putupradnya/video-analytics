{
 "cells": [
  {
   "cell_type": "code",
   "execution_count": 9,
   "metadata": {},
   "outputs": [
    {
     "name": "stdout",
     "output_type": "stream",
     "text": [
      "Daftar file dalam folder:\n",
      "rptra/sample/\n",
      "rptra/sample/test-1.mp4\n",
      "rptra/sample/test-22.mp4\n"
     ]
    }
   ],
   "source": [
    "import boto3\n",
    "\n",
    "# Inisialisasi S3 Client\n",
    "s3 = boto3.client(\"s3\")\n",
    "\n",
    "# Nama bucket dan folder\n",
    "bucket_name = \"demo-jsc\"\n",
    "folder_prefix = \"rptra/sample/\"  # Pastikan diakhiri dengan \"/\"\n",
    "\n",
    "# List semua objek dalam folder\n",
    "response = s3.list_objects_v2(Bucket=bucket_name, Prefix=folder_prefix)\n",
    "\n",
    "# Ambil hanya nama file\n",
    "if \"Contents\" in response:\n",
    "    file_names = [obj[\"Key\"] for obj in response[\"Contents\"]]\n",
    "    print(\"Daftar file dalam folder:\")\n",
    "    for file in file_names:\n",
    "        print(file)\n",
    "else:\n",
    "    print(\"Folder kosong atau tidak ditemukan.\")\n"
   ]
  },
  {
   "cell_type": "code",
   "execution_count": 7,
   "metadata": {},
   "outputs": [
    {
     "data": {
      "text/plain": [
       "[{'Key': 'rptra/sample/',\n",
       "  'LastModified': datetime.datetime(2025, 3, 16, 7, 21, 46, tzinfo=tzutc()),\n",
       "  'ETag': '\"d41d8cd98f00b204e9800998ecf8427e\"',\n",
       "  'ChecksumAlgorithm': ['CRC64NVME'],\n",
       "  'ChecksumType': 'FULL_OBJECT',\n",
       "  'Size': 0,\n",
       "  'StorageClass': 'STANDARD'},\n",
       " {'Key': 'rptra/sample/test-1.mp4',\n",
       "  'LastModified': datetime.datetime(2025, 3, 16, 7, 55, 43, tzinfo=tzutc()),\n",
       "  'ETag': '\"83801a2758e1c69bcba61970ee92f54d\"',\n",
       "  'ChecksumAlgorithm': ['CRC64NVME'],\n",
       "  'ChecksumType': 'FULL_OBJECT',\n",
       "  'Size': 1060426,\n",
       "  'StorageClass': 'STANDARD'},\n",
       " {'Key': 'rptra/sample/test-22.mp4',\n",
       "  'LastModified': datetime.datetime(2025, 3, 16, 7, 55, 35, tzinfo=tzutc()),\n",
       "  'ETag': '\"ecb0f203bfaa5f3d93aee4f2c62bee2d-3\"',\n",
       "  'ChecksumAlgorithm': ['CRC64NVME'],\n",
       "  'ChecksumType': 'FULL_OBJECT',\n",
       "  'Size': 49766991,\n",
       "  'StorageClass': 'STANDARD'}]"
      ]
     },
     "execution_count": 7,
     "metadata": {},
     "output_type": "execute_result"
    }
   ],
   "source": [
    "response['Contents']"
   ]
  },
  {
   "cell_type": "code",
   "execution_count": 10,
   "metadata": {},
   "outputs": [
    {
     "name": "stdout",
     "output_type": "stream",
     "text": [
      "File berhasil di-download: test-1.mp4\n"
     ]
    }
   ],
   "source": [
    "import boto3\n",
    "\n",
    "# Inisialisasi S3 Client\n",
    "s3 = boto3.client(\"s3\")\n",
    "\n",
    "# Nama bucket dan file yang akan di-download\n",
    "bucket_name = \"demo-jsc\"\n",
    "s3_key = \"rptra/sample/test-1.mp4\"  # Sesuai dengan list di atas\n",
    "local_filename = \"test-1.mp4\"  # Nama file di lokal\n",
    "\n",
    "# Download file\n",
    "try:\n",
    "    s3.download_file(bucket_name, s3_key, local_filename)\n",
    "    print(f\"File berhasil di-download: {local_filename}\")\n",
    "except Exception as e:\n",
    "    print(f\"Error saat download file: {e}\")\n"
   ]
  },
  {
   "cell_type": "code",
   "execution_count": null,
   "metadata": {},
   "outputs": [],
   "source": []
  }
 ],
 "metadata": {
  "kernelspec": {
   "display_name": "venv",
   "language": "python",
   "name": "python3"
  },
  "language_info": {
   "codemirror_mode": {
    "name": "ipython",
    "version": 3
   },
   "file_extension": ".py",
   "mimetype": "text/x-python",
   "name": "python",
   "nbconvert_exporter": "python",
   "pygments_lexer": "ipython3",
   "version": "3.11.10"
  }
 },
 "nbformat": 4,
 "nbformat_minor": 2
}
